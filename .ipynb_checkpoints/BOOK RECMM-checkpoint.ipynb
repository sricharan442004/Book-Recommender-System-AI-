{
 "cells": [
  {
   "cell_type": "code",
   "execution_count": 1,
   "id": "0556145c-f1f1-44f9-bf45-8be4821fa11e",
   "metadata": {},
   "outputs": [
    {
     "name": "stderr",
     "output_type": "stream",
     "text": [
      "C:\\Users\\karra\\AppData\\Local\\Temp\\ipykernel_22564\\555797462.py:1: DeprecationWarning: \n",
      "Pyarrow will become a required dependency of pandas in the next major release of pandas (pandas 3.0),\n",
      "(to allow more performant data types, such as the Arrow string type, and better interoperability with other libraries)\n",
      "but was not found to be installed on your system.\n",
      "If this would cause problems for you,\n",
      "please provide us feedback at https://github.com/pandas-dev/pandas/issues/54466\n",
      "        \n",
      "  import pandas as pd\n"
     ]
    }
   ],
   "source": [
    "import pandas as pd\n",
    "import numpy as np\n",
    "import matplotlib.pyplot as plt\n",
    "import seaborn as sns"
   ]
  },
  {
   "cell_type": "code",
   "execution_count": 11,
   "id": "f0092746-b9b4-4c5c-8aec-bcde2d07e075",
   "metadata": {},
   "outputs": [
    {
     "name": "stdout",
     "output_type": "stream",
     "text": [
      "Error parsing CSV: Error tokenizing data. C error: Expected 1 fields in line 438648, saw 3\n",
      "\n"
     ]
    }
   ],
   "source": [
    "import pandas as pd\n",
    "\n",
    "file_path = r'D:\\year2sem11\\AIADS\\Book recomender system\\BX-Book-Ratings.csv'\n",
    "\n",
    "try:\n",
    "    books = pd.read_csv(file_path, encoding='ISO-8859-1')\n",
    "except pd.errors.ParserError as e:\n",
    "    print(f\"Error parsing CSV: {e}\")\n",
    "\n",
    "# Now you can proceed with handling the DataFrame 'books'\n",
    "\n"
   ]
  },
  {
   "cell_type": "code",
   "execution_count": null,
   "id": "7ff5a5ed-f2bf-4719-9414-5a9614e41444",
   "metadata": {},
   "outputs": [],
   "source": [
    "books.head(2)"
   ]
  }
 ],
 "metadata": {
  "kernelspec": {
   "display_name": "Python 3 (ipykernel)",
   "language": "python",
   "name": "python3"
  },
  "language_info": {
   "codemirror_mode": {
    "name": "ipython",
    "version": 3
   },
   "file_extension": ".py",
   "mimetype": "text/x-python",
   "name": "python",
   "nbconvert_exporter": "python",
   "pygments_lexer": "ipython3",
   "version": "3.11.4"
  }
 },
 "nbformat": 4,
 "nbformat_minor": 5
}
